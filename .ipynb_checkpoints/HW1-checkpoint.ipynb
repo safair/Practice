{
 "cells": [
  {
   "cell_type": "markdown",
   "metadata": {},
   "source": [
    "## About"
   ]
  },
  {
   "cell_type": "markdown",
   "metadata": {},
   "source": [
    "Widget practice and test. "
   ]
  },
  {
   "cell_type": "markdown",
   "metadata": {},
   "source": [
    "## Loading Modules"
   ]
  },
  {
   "cell_type": "code",
   "execution_count": null,
   "metadata": {},
   "outputs": [],
   "source": []
  },
  {
   "cell_type": "code",
   "execution_count": 1,
   "metadata": {},
   "outputs": [],
   "source": [
    "from ipywidgets import interact, Dropdown, Button\n",
    "import ipywidgets as widgets"
   ]
  },
  {
   "cell_type": "code",
   "execution_count": 2,
   "metadata": {},
   "outputs": [],
   "source": [
    "import numpy as np\n",
    "import matplotlib.pyplot as plt\n",
    "#%matplotlib inline\n",
    "\n",
    "import pandas as pd"
   ]
  },
  {
   "cell_type": "code",
   "execution_count": 3,
   "metadata": {},
   "outputs": [],
   "source": [
    "def displ(n):\n",
    "    plt.figure(figsize=(8,5))\n",
    "    plt.scatter(x=list(range(n)),y=np.random.randn(n)*15)\n",
    "    plt.title('title')\n",
    "    plt.show()"
   ]
  },
  {
   "cell_type": "code",
   "execution_count": 4,
   "metadata": {},
   "outputs": [
    {
     "data": {
      "application/vnd.jupyter.widget-view+json": {
       "model_id": "6509eae83f0b4c76a7a9f180281639be",
       "version_major": 2,
       "version_minor": 0
      },
      "text/html": [
       "<p>Failed to display Jupyter Widget of type <code>interactive</code>.</p>\n",
       "<p>\n",
       "  If you're reading this message in Jupyter Notebook or JupyterLab, it may mean\n",
       "  that the widgets JavaScript is still loading. If this message persists, it\n",
       "  likely means that the widgets JavaScript library is either not installed or\n",
       "  not enabled. See the <a href=\"https://ipywidgets.readthedocs.io/en/stable/user_install.html\">Jupyter\n",
       "  Widgets Documentation</a> for setup instructions.\n",
       "</p>\n",
       "<p>\n",
       "  If you're reading this message in another notebook frontend (for example, a static\n",
       "  rendering on GitHub or <a href=\"https://nbviewer.jupyter.org/\">NBViewer</a>),\n",
       "  it may mean that your frontend doesn't currently support widgets.\n",
       "</p>\n"
      ],
      "text/plain": [
       "interactive(children=(Dropdown(description='n', options={'Low': 20, 'Medium': 100, 'High': 500}, value=20), Output()), _dom_classes=('widget-interact',))"
      ]
     },
     "metadata": {},
     "output_type": "display_data"
    },
    {
     "data": {
      "text/plain": [
       "<function __main__.displ>"
      ]
     },
     "execution_count": 4,
     "metadata": {},
     "output_type": "execute_result"
    }
   ],
   "source": [
    "interact(displ, n=Dropdown(options={'Low':20, 'Medium':100, 'High':500}))"
   ]
  },
  {
   "cell_type": "code",
   "execution_count": 5,
   "metadata": {},
   "outputs": [
    {
     "data": {
      "application/vnd.jupyter.widget-view+json": {
       "model_id": "da6377d73af0443cb9ae8704afcd4064",
       "version_major": 2,
       "version_minor": 0
      },
      "text/html": [
       "<p>Failed to display Jupyter Widget of type <code>interactive</code>.</p>\n",
       "<p>\n",
       "  If you're reading this message in Jupyter Notebook or JupyterLab, it may mean\n",
       "  that the widgets JavaScript is still loading. If this message persists, it\n",
       "  likely means that the widgets JavaScript library is either not installed or\n",
       "  not enabled. See the <a href=\"https://ipywidgets.readthedocs.io/en/stable/user_install.html\">Jupyter\n",
       "  Widgets Documentation</a> for setup instructions.\n",
       "</p>\n",
       "<p>\n",
       "  If you're reading this message in another notebook frontend (for example, a static\n",
       "  rendering on GitHub or <a href=\"https://nbviewer.jupyter.org/\">NBViewer</a>),\n",
       "  it may mean that your frontend doesn't currently support widgets.\n",
       "</p>\n"
      ],
      "text/plain": [
       "interactive(children=(ToggleButtons(description='Density', options={'Low1': 20, 'Low2': 50, 'Medium1': 100, 'Medium2': 200, 'High1': 500, 'High2': 1000}, value=20), Output()), _dom_classes=('widget-interact',))"
      ]
     },
     "metadata": {},
     "output_type": "display_data"
    },
    {
     "data": {
      "text/plain": [
       "<function __main__.displ>"
      ]
     },
     "execution_count": 5,
     "metadata": {},
     "output_type": "execute_result"
    }
   ],
   "source": [
    "t = widgets.ToggleButtons(\n",
    "    options={'Low1':20,'Low2':50, \\\n",
    "             'Medium1':100,'Medium2':200, \\\n",
    "             'High1':500,'High2':1000},\n",
    "    description='Density',\n",
    "    disabled=False,\n",
    "    color='lightgreen'\n",
    ")\n",
    "interact(displ, n=t)"
   ]
  },
  {
   "cell_type": "code",
   "execution_count": 6,
   "metadata": {},
   "outputs": [
    {
     "data": {
      "application/vnd.jupyter.widget-view+json": {
       "model_id": "04b7a100ba1a4dc7b7923737ce2c661c",
       "version_major": 2,
       "version_minor": 0
      },
      "text/html": [
       "<p>Failed to display Jupyter Widget of type <code>Button</code>.</p>\n",
       "<p>\n",
       "  If you're reading this message in Jupyter Notebook or JupyterLab, it may mean\n",
       "  that the widgets JavaScript is still loading. If this message persists, it\n",
       "  likely means that the widgets JavaScript library is either not installed or\n",
       "  not enabled. See the <a href=\"https://ipywidgets.readthedocs.io/en/stable/user_install.html\">Jupyter\n",
       "  Widgets Documentation</a> for setup instructions.\n",
       "</p>\n",
       "<p>\n",
       "  If you're reading this message in another notebook frontend (for example, a static\n",
       "  rendering on GitHub or <a href=\"https://nbviewer.jupyter.org/\">NBViewer</a>),\n",
       "  it may mean that your frontend doesn't currently support widgets.\n",
       "</p>\n"
      ],
      "text/plain": [
       "Button(description='Click Me!', style=ButtonStyle(button_color='lightgreen'))"
      ]
     },
     "metadata": {},
     "output_type": "display_data"
    },
    {
     "name": "stdout",
     "output_type": "stream",
     "text": [
      "Button clicked.\n",
      "Button clicked.\n",
      "Button clicked.\n",
      "Button clicked.\n"
     ]
    }
   ],
   "source": [
    "button = widgets.Button(description=\"Click Me!\")\n",
    "button.style.button_color = 'lightgreen'\n",
    "display(button)\n",
    "\n",
    "def on_button_clicked(b):\n",
    "    print(\"Button clicked.\")\n",
    "\n",
    "button.on_click(on_button_clicked)"
   ]
  },
  {
   "cell_type": "code",
   "execution_count": null,
   "metadata": {},
   "outputs": [],
   "source": []
  }
 ],
 "metadata": {
  "kernelspec": {
   "display_name": "Python 3",
   "language": "python",
   "name": "python3"
  },
  "language_info": {
   "codemirror_mode": {
    "name": "ipython",
    "version": 3
   },
   "file_extension": ".py",
   "mimetype": "text/x-python",
   "name": "python",
   "nbconvert_exporter": "python",
   "pygments_lexer": "ipython3",
   "version": "3.6.2"
  },
  "widgets": {
   "application/vnd.jupyter.widget-state+json": {
    "state": {
     "015e48623ef14a7a9768242b062c44b5": {
      "model_module": "@jupyter-widgets/base",
      "model_module_version": "1.0.0",
      "model_name": "LayoutModel",
      "state": {}
     },
     "04b7a100ba1a4dc7b7923737ce2c661c": {
      "model_module": "@jupyter-widgets/controls",
      "model_module_version": "1.0.0",
      "model_name": "ButtonModel",
      "state": {
       "description": "Click Me!",
       "layout": "IPY_MODEL_ed7a780030ce4f73a8dd0face4b8e61b",
       "style": "IPY_MODEL_9f5882cb9e9b4209abc4230de195c049"
      }
     },
     "2878a8e60b4542499b2a38aa42a92a30": {
      "model_module": "@jupyter-widgets/controls",
      "model_module_version": "1.0.0",
      "model_name": "DropdownModel",
      "state": {
       "_options_labels": [
        "Low",
        "Medium",
        "High"
       ],
       "description": "n",
       "index": 0,
       "layout": "IPY_MODEL_ea488bc9d6e147edb28348058d8988f6",
       "style": "IPY_MODEL_97d9935f315a47cf941ed1f5ac75b3f9"
      }
     },
     "42d4d96f31c042b886f1c97c5fb3c233": {
      "model_module": "@jupyter-widgets/output",
      "model_module_version": "1.0.0",
      "model_name": "OutputModel",
      "state": {
       "layout": "IPY_MODEL_81cc75ca6910449397b44dbe056a6d55",
       "outputs": [
        {
         "data": {
          "image/png": "iVBORw0KGgoAAAANSUhEUgAAAewAAAE/CAYAAACEgPDhAAAABHNCSVQICAgIfAhkiAAAAAlwSFlz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\nAElFTkSuQmCC\n",
          "text/plain": "<matplotlib.figure.Figure at 0x1063602e8>"
         },
         "metadata": {},
         "output_type": "display_data"
        }
       ]
      }
     },
     "48baa2f22e7d442ebd6b64aab2ae8b29": {
      "model_module": "@jupyter-widgets/base",
      "model_module_version": "1.0.0",
      "model_name": "LayoutModel",
      "state": {}
     },
     "6509eae83f0b4c76a7a9f180281639be": {
      "model_module": "@jupyter-widgets/controls",
      "model_module_version": "1.0.0",
      "model_name": "VBoxModel",
      "state": {
       "_dom_classes": [
        "widget-interact"
       ],
       "children": [
        "IPY_MODEL_2878a8e60b4542499b2a38aa42a92a30",
        "IPY_MODEL_42d4d96f31c042b886f1c97c5fb3c233"
       ],
       "layout": "IPY_MODEL_015e48623ef14a7a9768242b062c44b5"
      }
     },
     "81431665b6d447a88058008e812abc7c": {
      "model_module": "@jupyter-widgets/controls",
      "model_module_version": "1.0.0",
      "model_name": "ToggleButtonsModel",
      "state": {
       "_options_labels": [
        "Low1",
        "Low2",
        "Medium1",
        "Medium2",
        "High1",
        "High2"
       ],
       "button_style": "",
       "description": "Density",
       "icons": [],
       "index": 0,
       "layout": "IPY_MODEL_48baa2f22e7d442ebd6b64aab2ae8b29",
       "style": "IPY_MODEL_bf48643176df4292a81a5afc65b3bdbf",
       "tooltips": []
      }
     },
     "81cc75ca6910449397b44dbe056a6d55": {
      "model_module": "@jupyter-widgets/base",
      "model_module_version": "1.0.0",
      "model_name": "LayoutModel",
      "state": {}
     },
     "97d9935f315a47cf941ed1f5ac75b3f9": {
      "model_module": "@jupyter-widgets/controls",
      "model_module_version": "1.0.0",
      "model_name": "DescriptionStyleModel",
      "state": {
       "description_width": ""
      }
     },
     "9f5882cb9e9b4209abc4230de195c049": {
      "model_module": "@jupyter-widgets/controls",
      "model_module_version": "1.0.0",
      "model_name": "ButtonStyleModel",
      "state": {
       "button_color": "lightgreen"
      }
     },
     "b4282923bc1e48818518d8a3ccd2d0cf": {
      "model_module": "@jupyter-widgets/base",
      "model_module_version": "1.0.0",
      "model_name": "LayoutModel",
      "state": {}
     },
     "bf48643176df4292a81a5afc65b3bdbf": {
      "model_module": "@jupyter-widgets/controls",
      "model_module_version": "1.0.0",
      "model_name": "ToggleButtonsStyleModel",
      "state": {
       "button_width": "",
       "description_width": ""
      }
     },
     "da6377d73af0443cb9ae8704afcd4064": {
      "model_module": "@jupyter-widgets/controls",
      "model_module_version": "1.0.0",
      "model_name": "VBoxModel",
      "state": {
       "_dom_classes": [
        "widget-interact"
       ],
       "children": [
        "IPY_MODEL_81431665b6d447a88058008e812abc7c",
        "IPY_MODEL_ef52953a2dd24432835f28820c70d4d6"
       ],
       "layout": "IPY_MODEL_b4282923bc1e48818518d8a3ccd2d0cf"
      }
     },
     "ea488bc9d6e147edb28348058d8988f6": {
      "model_module": "@jupyter-widgets/base",
      "model_module_version": "1.0.0",
      "model_name": "LayoutModel",
      "state": {}
     },
     "ed7a780030ce4f73a8dd0face4b8e61b": {
      "model_module": "@jupyter-widgets/base",
      "model_module_version": "1.0.0",
      "model_name": "LayoutModel",
      "state": {}
     },
     "ef52953a2dd24432835f28820c70d4d6": {
      "model_module": "@jupyter-widgets/output",
      "model_module_version": "1.0.0",
      "model_name": "OutputModel",
      "state": {
       "layout": "IPY_MODEL_ff794ab1dfb84f389915f18017f91d4e",
       "outputs": [
        {
         "data": {
          "image/png": "iVBORw0KGgoAAAANSUhEUgAAAewAAAE/CAYAAACEgPDhAAAABHNCSVQICAgIfAhkiAAAAAlwSFlz\nAAALEgAACxIB0t1+/AAAADl0RVh0U29mdHdhcmUAbWF0cGxvdGxpYiB2ZXJzaW9uIDIuMS4wLCBo\ndHRwOi8vbWF0cGxvdGxpYi5vcmcvpW3flQAAF+hJREFUeJzt3X+MZeV93/H3t8PamdpWBsqWsAMU\nHJOpcElYNEK4JJEbqAdbqXdDqYVVxSR2tbIKUly147KlctIfFNxpE8V1GndTWyERCpBkGaiNM+aH\nq7RSwVk8mOWHx6wd23B3DevaA7Y8cpb1t3/MGTq73Jm5d++9c+5z5v2Srube55x7zvPo3Lmfe57z\nnHMiM5EkScPtr9VdAUmStDEDW5KkAhjYkiQVwMCWJKkABrYkSQUwsCVJKoCBLW0REXFeRHw/IkbW\nmScj4i2bWS9JnTGwpQaLiK9HxFUAmfnNzHxjZh6vpv3PiPgn9dZQUqcMbEmSCmBgSw0VEX8InAf8\nj6or/MNVl/dpEXEL8HPAx6tpH2/z/tdHxH+KiG9GxAsR8YmIGN3sdkhaZmBLDZWZvwx8E/gHmflG\n4O5V024G/hdwY9VNfmObRdwG/BRwCfAWYBz4yMArLqktA1vSa0REAHuAf5aZ38nM7wH/Abiu3ppJ\nW9dpdVdA0lDaDvx14LHl7AYggDVHmEsaLANbarb1bse33rRvA0vAWzOz1d8qSToVdolLzfYC8OZu\np2Xmj4DfA34rIv4mQESMR8TUQGopaUMGttRstwL/OiIWgWtPmvbbwLUR8d2I+Fib9/5L4BDwSES8\nDDwITAy0tpLWFJnr9YpJkqRh4B62JEkFMLAlSSqAgS1JUgEMbEmSCmBgS5JUgKG6cMqZZ56Z559/\nft3VkCRp0zz22GPfzsztG803VIF9/vnnc+DAgbqrIUnSpomIb3Qyn13ikiQVwMCWJKkABrYkSQUw\nsCVJKoCBLUlSAQxsSZIKYGBLklSAoToPeyuanW8xM7fA4cUldoyNMj01we6d43VXS5I0ZAzsGs3O\nt9i7/yBLx44D0FpcYu/+gwCGtiTpBHaJ12hmbuHVsF6xdOw4M3MLNdVIkjSsDOwaHV5c6qpckrR1\nGdg12jE22lW5JGnrMrBrND01wei2kRPKRreNMD01UVONJEnDykFnNVoZWOYocUnSRgzsmu3eOW5A\nS5I2ZJe4JEkFMLAlSSqAgS1JUgEMbEmSCmBgS5JUAANbkqQCGNiSJBXAwJYkqQBeOEWSOuC961U3\nA1uSNuC96zUM7BKXpA1473oNg54DOyJ+LCK+EBFfioinIuLfVOUXRMSjEXEoIu6KiNf1Xl1J2nze\nu17DoB972D8EfiEzfwa4BLg6Ii4HPgr8Vma+Bfgu8IE+rEuSNp33rtcw6Dmwc9n3q5fbqkcCvwD8\nSVV+O7C713VJUh28d72GQV+OYUfESEQ8DrwIPAB8FVjMzFeqWZ4HHJkhqUi7d45z6zUXMz42SgDj\nY6Pces3FDjjTpurLKPHMPA5cEhFjwD3A3+70vRGxB9gDcN555/WjOpLUd967XnXr6yjxzFwEPg+8\nDRiLiJUfBOcArTXesy8zJzNzcvv27f2sjiRJjdGPUeLbqz1rImIU+PvAMywH97XVbNcD9/a6LkmS\ntqp+dImfDdweESMs/wC4OzM/HRFPA3dGxL8H5oFP9mFdkiRtST0HdmY+AexsU/414LJely9JkrzS\nmSRJRTCwJUkqgIEtSVIBDGxJkgpgYEuSVAADW5KkAhjYkiQVwMCWJKkABrYkSQUwsCVJKoCBLUlS\nAQxsSZIKYGBLklQAA1uSpAIY2JIkFcDAliSpAAa2JEkFMLAlSSqAgS1JUgEMbEmSCmBgS5JUAANb\nkqQCGNiSJBXAwJYkqQAGtiRJBTCwJUkqgIEtSVIBDGxJkgrQc2BHxLkR8fmIeDoinoqIX6vKz4iI\nByLi2erv6b1XV5Kkrakfe9ivAP88My8CLgduiIiLgJuAhzLzQuCh6rUkSToFPQd2Zh7JzC9Wz78H\nPAOMA7uA26vZbgd297ouSZK2qr4ew46I84GdwKPAWZl5pJr0LeCsfq5LkqStpG+BHRFvBP4U+FBm\nvrx6WmYmkGu8b09EHIiIA0ePHu1XdSRJapS+BHZEbGM5rO/IzP1V8QsRcXY1/WzgxXbvzcx9mTmZ\nmZPbt2/vR3UkSWqcfowSD+CTwDOZ+ZurJt0HXF89vx64t9d1SZK0VZ3Wh2VcAfwycDAiHq/K/hVw\nG3B3RHwA+Abwnj6sS5KkLannwM7M/w3EGpOv7HX5kiTJK51JklQEA1uSpAIY2JIkFaAfg84knaLZ\n+RYzcwscXlxix9go01MT7N45Xne1JA0hA1uqyex8i737D7J07DgArcUl9u4/CGBoS3oNu8SlmszM\nLbwa1iuWjh1nZm6hphpJGmYGtlSTw4tLXZVL2toMbKkmO8ZGuyqXtLUZ2FJNpqcmGN02ckLZ6LYR\npqcmaqqRpGHmoDOpJisDyxwlLvVXU8++MLClGu3eOd6ILxJpWDT57Au7xCVJjdHksy8MbElSYzT5\n7AsDW5LUGE0++8LAliQ1RpPPvnDQmSSpMZp89oWBLUlqlKaefWGXuCRJBTCwJUkqgF3ikiRtYBiu\nnmZgS5K0jmG5epqBLakjw7CHIdVhvaunGdiShsqw7GFIdRiWq6c56EzShpp8fWZpI8Ny9TQDW9KG\nhmUPQ6rDsFw9zcCWtKFh2cOQ6rB75zi3XnMx42OjBDA+Nsqt11zsKHFJw2d6auKEY9jQnOszS50Y\nhqunGdiqlSOPy9Dk6zNLpTCwVRtHHpdlGPYwpK2sL8ewI+JTEfFiRDy5quyMiHggIp6t/p7ej3Wp\nORx5LEmd69egs98Hrj6p7Cbgocy8EHioei29ypHHktS5vgR2Zv458J2TincBt1fPbwd292Ndag5H\nHktS5wZ5WtdZmXmkev4t4Kx2M0XEnog4EBEHjh49OsDqaNgMy7mNklSCTTkPOzMTyDWm7cvMycyc\n3L59+2ZUR0NiWM5tlKQSDHKU+AsRcXZmHomIs4EXB7guFcqRx5LUmUEG9n3A9cBt1d97B7gubQLP\nmZak+vQlsCPij4C3A2dGxPPAr7Mc1HdHxAeAbwDv6ce6VA/PmZakevUlsDPzvWtMurIfy1f9huV+\nsJK0VXmlM3XEc6al/vMwk7rh3brUEc+Zlvpr5TBTa3GJ5P8fZpqdb9VdNQ0pA1sd8Zxpqb+8NK+6\nZZe4OuLdmqT+8jCTumVgq2OeMy31z46xUVptwtnDTFqLXeKSVAMPM6lb7mFLUg08zKRuGdiSVBMP\nM6kbdolLklQAA1uSpAIY2JIkFcDAliSpAAa2JEkFcJS4pNp48wupcwZ2F/xykfrHe6xL3TGwO1Ta\nl4s/LjTsBnmPdT//aiKPYXeopDvreNs+lWBQN7/w86+mMrA7VNKddUr6caGta1D3WPfzr6YysDs0\nqC+XQSjpx4UGY3a+xRW3PcwFN32GK257eCj3Lgd18ws//2oqA7tDJd1Zp6QfF+q/UrqEd+8c59Zr\nLmZ8bJQAxsdGufWai3s+1uznX03loLMOlXRnnempiRMGyMHw/rhQ/w1yMFe/DeLmF37+1VQGdhdK\nubNOST8u1H9bvUvYz7+aysBuqFJ+XKj/doyN0moTzlupS9jPv5rIY9hSw5Q03kJS59zDlhrGLmGp\nmQxsqYHsEpaaxy5xSZIKYGBLklSAgQd2RFwdEQsRcSgibhr0+iRJaqKBBnZEjAC/A7wTuAh4b0Rc\nNMh1SpLURIPew74MOJSZX8vMvwLuBHYNeJ2SJDXOoAN7HHhu1evnqzJJktSF2gedRcSeiDgQEQeO\nHj1ad3UkSRpKgw7sFnDuqtfnVGWvysx9mTmZmZPbt28fcHUkSSrToAP7L4ALI+KCiHgdcB1w34DX\nKUlS4wz0SmeZ+UpE3AjMASPApzLzqUGuU5JUhtn5lpfQ7cLAL02amfcD9w96PZKkcszOt064b3lr\ncYm9+w8CGNprqH3QmSRp65mZW3g1rFcsHTvOzNxCTTUafga2JGnTHW5zz/b1ymVgS5JqsGNstKty\nGdiSpA7Mzre44raHueCmz3DFbQ8zO9/a+E3rmJ6aYHTbyAllo9tGmJ6a6Gm5Teb9sCVJ6xrEALGV\n9zlKvHMGtiRpXesNEOslYHfvHDegu2CXuCRpXQ4QGw4GtiRpXQ4QGw4GtiRpXQ4QGw4ew5YkrcsB\nYsPBwJYkbcgBYvWzS1ySpAIY2JIkFcDAliSpAB7DlqSG8T7TzWRgS1KDeJ/p5rJLXJIaxPtMN5eB\nLUkN4mVEm8vAlqQG8TKizWVgS1KDeBnR5nLQmSQ1iJcRbS4DW5IaxsuINpNd4pIkFcDAliSpAAa2\nJEkFMLAlSSqAgS1JUgEMbEmSCtBTYEfEP4qIpyLiRxExedK0vRFxKCIWImKqt2pKkrS19Xoe9pPA\nNcB/W10YERcB1wFvBXYAD0bET2Xm8dcuQpIkbaSnPezMfCYz290CZhdwZ2b+MDP/EjgEXNbLuiRJ\n2soGdQx7HHhu1evnqzJJknQKNuwSj4gHgZ9oM+nmzLy31wpExB5gD8B5553X6+IkSWqkDQM7M686\nheW2gHNXvT6nKmu3/H3APoDJyck8hXVJktR4g+oSvw+4LiJeHxEXABcCXxjQuiRJarxeT+v6pYh4\nHngb8JmImAPIzKeAu4GngT8DbnCEuCRJp66n07oy8x7gnjWm3QLc0svyJUnSMu+HrUaanW8xM7fA\n4cUldoyNMj014f2BJRXNwFbjzM632Lv/IEvHlo/CtBaX2Lv/IIChLalYXktcjTMzt/BqWK9YOnac\nmbl21/iRpDIY2Gqcw4tLXZVLUgkMbDXOjrHRrsolqQQGthpnemqC0W0jJ5SNbhthemqiphpJUu8c\ndKbGWRlY5ihxSU1iYKuRdu8cN6AlNYpd4pIkFcDAliSpAAa2JEkFMLAlSSqAgS1JUgEMbEmSCmBg\nS5JUAANbkqQCGNiSJBXAwJYkqQAGtiRJBTCwJUkqgIEtSVIBDGxJkgpgYEuSVAADW5KkAhjYkiQV\nwMCWJKkABrYkSQUwsCVJKkBPgR0RMxHx5Yh4IiLuiYixVdP2RsShiFiIiKneqypJ0tbV6x72A8Df\nycyfBr4C7AWIiIuA64C3AlcD/zUiRnpclyRJW9Zpvbw5Mz+36uUjwLXV813AnZn5Q+AvI+IQcBnw\nf3pZn1Sn2fkWM3MLHF5cYsfYKNNTE+zeOV53tSRtEf08hv1+4LPV83HguVXTnq/KpCLNzrfYu/8g\nrcUlEmgtLrF3/0Fm51t1V03SFrFhYEfEgxHxZJvHrlXz3Ay8AtzRbQUiYk9EHIiIA0ePHu327dKm\nmJlbYOnY8RPKlo4dZ2ZuoaYaSdpqNuwSz8yr1pseEb8C/CJwZWZmVdwCzl012zlVWbvl7wP2AUxO\nTma7eaS6HV5c6qpckvqt11HiVwMfBt6dmT9YNek+4LqIeH1EXABcCHyhl3VJddoxNtpVuST1W6/H\nsD8OvAl4ICIej4hPAGTmU8DdwNPAnwE3ZObxtRcjDbfpqQlGt514osPothGmpyZqqpGkrabXUeJv\nWWfaLcAtvSxfGhYro8EdJS6pLj0FtrSV7N45bkBLqo2XJpUkqQAGtiRJBTCwJUkqgIEtSVIBDGxJ\nkgpgYEuSVAADW5KkAhjYkiQVwMCWJKkABrYkSQUwsCVJKoCBLUlSAQxsSZIKYGBLklQAA1uSpAIY\n2JIkFcDAliSpAAa2JEkFMLAlSSqAgS1JUgEMbEmSCmBgS5JUAANbkqQCGNiSJBXAwJYkqQAGtiRJ\nBTCwJUkqQE+BHRH/LiKeiIjHI+JzEbGjKo+I+FhEHKqmX9qf6kqStDX1uoc9k5k/nZmXAJ8GPlKV\nvxO4sHrsAX63x/VIkrSl9RTYmfnyqpdvALJ6vgv4g1z2CDAWEWf3si5Jkray03pdQETcArwPeAn4\ne1XxOPDcqtmer8qO9Lo+SZK2og33sCPiwYh4ss1jF0Bm3pyZ5wJ3ADd2W4GI2BMRByLiwNGjR7tv\ngSRJW8CGe9iZeVWHy7oDuB/4daAFnLtq2jlVWbvl7wP2AUxOTma7eU7F7HyLmbkFDi8usWNslOmp\nCXbvHO/X4iVJ2lS9jhK/cNXLXcCXq+f3Ae+rRotfDryUmZvWHT4732Lv/oO0FpdIoLW4xN79B5md\nb/ubQZKkodfrMezbImIC+BHwDeCDVfn9wLuAQ8APgF/tcT1dmZlbYOnY8RPKlo4dZ2Zuwb1sSVKR\negrszPyHa5QncEMvy+7F4cWlrsolSRp2jbzS2Y6x0a7KJUkado0M7OmpCUa3jZxQNrpthOmpiZpq\nJElSb3o+D3sYrRyndpS4JKkpGhnYsBzaBrQkqSka2SUuSVLTGNiSJBXAwJYkqQAGtiRJBTCwJUkq\ngIEtSVIBDGxJkgpgYEuSVIBYvk/HcIiIoyzf9aufzgS+3edl1s02laOJ7bJN5Whiu5rYpr+Vmds3\nmmmoAnsQIuJAZk7WXY9+sk3laGK7bFM5mtiuJrapU3aJS5JUAANbkqQCbIXA3ld3BQbANpWjie2y\nTeVoYrua2KaONP4YtiRJTbAV9rAlSSpeIwI7Iq6OiIWIOBQRN7WZ/vqIuKua/mhEnL/5texORJwb\nEZ+PiKcj4qmI+LU287w9Il6KiMerx0fqqGs3IuLrEXGwqu+BNtMjIj5WbasnIuLSOurZjYiYWLUN\nHo+IlyPiQyfNM/TbKiI+FREvRsSTq8rOiIgHIuLZ6u/pa7z3+mqeZyPi+s2r9frWaNNMRHy5+nzd\nExFja7x33c9qndZo129ERGvVZ+xda7x33e/LuqzRprtWtefrEfH4Gu8d2m3VV5lZ9AMYAb4KvBl4\nHfAl4KKT5vmnwCeq59cBd9Vd7w7adTZwafX8TcBX2rTr7cCn665rl+36OnDmOtPfBXwWCOBy4NG6\n69xl+0aAb7F8XmVR2wr4eeBS4MlVZf8RuKl6fhPw0TbvOwP4WvX39Or56XW3Z502vQM4rXr+0XZt\nqqat+1kdwnb9BvAvNnjfht+Xw9Smk6b/Z+AjpW2rfj6asId9GXAoM7+WmX8F3AnsOmmeXcDt1fM/\nAa6MiNjEOnYtM49k5her598DngHG663VptgF/EEuewQYi4iz665UF64EvpqZ/b4A0MBl5p8D3zmp\nePX/zu3A7jZvnQIeyMzvZOZ3gQeAqwdW0S60a1Nmfi4zX6lePgKcs+kV69Ea26oTnXxf1mK9NlXf\n1+8B/mhTKzVkmhDY48Bzq14/z2uD7dV5qn/Ul4C/sSm164OqC38n8GibyW+LiC9FxGcj4q2bWrFT\nk8DnIuKxiNjTZnon23OYXcfaXyqlbSuAszLzSPX8W8BZbeYpeZu9n+UenXY2+qwOoxurrv5PrXH4\notRt9XPAC5n57BrTS9xWXWtCYDdaRLwR+FPgQ5n58kmTv8hy1+vPAP8FmN3s+p2Cn83MS4F3AjdE\nxM/XXaF+iYjXAe8G/rjN5BK31Qlyue+xMaeVRMTNwCvAHWvMUtpn9XeBnwQuAY6w3IXcFO9l/b3r\n0rbVKWlCYLeAc1e9PqcqaztPRJwG/Djwfzeldj2IiG0sh/Udmbn/5OmZ+XJmfr96fj+wLSLO3ORq\ndiUzW9XfF4F7WO6iW62T7Tms3gl8MTNfOHlCiduq8sLKIYnq74tt5ilum0XErwC/CPzj6ofIa3Tw\nWR0qmflCZh7PzB8Bv0f7+pa4rU4DrgHuWmue0rbVqWpCYP8FcGFEXFDt4VwH3HfSPPcBKyNXrwUe\nXuufdFhUx2w+CTyTmb+5xjw/sXIsPiIuY3l7Du0PkYh4Q0S8aeU5y4N/njxptvuA91WjxS8HXlrV\nJTvs1twLKG1brbL6f+d64N4288wB74iI06tu2HdUZUMpIq4GPgy8OzN/sMY8nXxWh8pJYz1+ifb1\n7eT7cthcBXw5M59vN7HEbXXK6h711o8HyyOLv8Ly6Mebq7J/y/I/JMCPsdxNeQj4AvDmuuvcQZt+\nluXuxyeAx6vHu4APAh+s5rkReIrlkZ6PAH+37npv0KY3V3X9UlXvlW21uk0B/E61LQ8Ck3XXu8O2\nvYHlAP7xVWVFbSuWf2wcAY6xfGzzAyyP9XgIeBZ4EDijmncS+O+r3vv+6v/rEPCrdbdlgzYdYvk4\n7sr/1coZJDuA+9f7rA7LY412/WH1P/MEyyF89sntql6/5vtyGB7t2lSV//7K/9GqeYvZVv18eKUz\nSZIK0IQucUmSGs/AliSpAAa2JEkFMLAlSSqAgS1JUgEMbEmSCmBgS5JUAANbkqQC/D85pbZ37owt\nhAAAAABJRU5ErkJggg==\n",
          "text/plain": "<matplotlib.figure.Figure at 0x112285c88>"
         },
         "metadata": {},
         "output_type": "display_data"
        }
       ]
      }
     },
     "ff794ab1dfb84f389915f18017f91d4e": {
      "model_module": "@jupyter-widgets/base",
      "model_module_version": "1.0.0",
      "model_name": "LayoutModel",
      "state": {}
     }
    },
    "version_major": 2,
    "version_minor": 0
   }
  }
 },
 "nbformat": 4,
 "nbformat_minor": 2
}
