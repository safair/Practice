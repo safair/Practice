{
 "cells": [
  {
   "cell_type": "markdown",
   "metadata": {},
   "source": [
    "### [Problem 1](https://www.hackerrank.com/challenges/circular-array-rotation/problem)"
   ]
  },
  {
   "cell_type": "code",
   "execution_count": 1,
   "metadata": {},
   "outputs": [],
   "source": [
    "def circularArrayRotation(a, k, queries):\n",
    "    return [a[(((len(a)-1)*(k%len(a)))+query)%len(a)] for query in queries]"
   ]
  },
  {
   "cell_type": "markdown",
   "metadata": {},
   "source": [
    "### [Problem 2](https://www.hackerrank.com/challenges/permutation-equation/problem)\n"
   ]
  },
  {
   "cell_type": "code",
   "execution_count": 2,
   "metadata": {},
   "outputs": [],
   "source": [
    "# Complete the permutationEquation function below.\n",
    "def permutationEquation(p):\n",
    "    dicty={}\n",
    "    result = []\n",
    "\n",
    "    for indx in range(len(p)):\n",
    "        dicty[p[indx]] = indx+1\n",
    "\n",
    "    for x in range(1, len(p)+1):\n",
    "        result.append(dicty[dicty[x]])\n",
    "    return result"
   ]
  },
  {
   "cell_type": "markdown",
   "metadata": {},
   "source": [
    "### [Problem 3](https://www.hackerrank.com/challenges/jumping-on-the-clouds-revisited/problem)\n"
   ]
  },
  {
   "cell_type": "code",
   "execution_count": 3,
   "metadata": {},
   "outputs": [],
   "source": [
    "# Complete the jumpingOnClouds function below.\n",
    "def jumpingOnClouds(c, k):\n",
    "    indx = k%len(c)\n",
    "    eng = 100 - ((c[indx]*2)+1)\n",
    "    while(indx !=0):\n",
    "        print(indx, eng)\n",
    "        indx = (indx+k)%len(c)\n",
    "        eng -= c[indx]*2 +1\n",
    "    return eng"
   ]
  },
  {
   "cell_type": "markdown",
   "metadata": {},
   "source": [
    "### [Problem 4](https://www.hackerrank.com/challenges/find-digits/problem)"
   ]
  },
  {
   "cell_type": "code",
   "execution_count": 4,
   "metadata": {},
   "outputs": [],
   "source": [
    "# Complete the findDigits function below.\n",
    "def findDigits(n):\n",
    "    counts = [0 for i in range(10)]  \n",
    "    digits = list(str(n)) \n",
    "    for digit in digits:\n",
    "        digit = int(digit)\n",
    "        if(digit !=0 and (n%digit==0)):\n",
    "            counts[digit] +=1\n",
    "    return sum(counts)"
   ]
  }
 ],
 "metadata": {
  "kernelspec": {
   "display_name": "Python 3",
   "language": "python",
   "name": "python3"
  },
  "language_info": {
   "codemirror_mode": {
    "name": "ipython",
    "version": 3
   },
   "file_extension": ".py",
   "mimetype": "text/x-python",
   "name": "python",
   "nbconvert_exporter": "python",
   "pygments_lexer": "ipython3",
   "version": "3.6.2"
  }
 },
 "nbformat": 4,
 "nbformat_minor": 2
}
