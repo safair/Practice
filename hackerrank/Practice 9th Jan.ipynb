{
 "cells": [
  {
   "cell_type": "markdown",
   "metadata": {},
   "source": [
    "### [Problem 1](https://www.hackerrank.com/challenges/repeated-string/problem)"
   ]
  },
  {
   "cell_type": "code",
   "execution_count": 1,
   "metadata": {},
   "outputs": [],
   "source": [
    "def repeatedString(s, n):\n",
    "    return s.count('a')*(n//len(s)) + s[:(n%len(s))].count('a')"
   ]
  },
  {
   "cell_type": "markdown",
   "metadata": {},
   "source": [
    "### [Problem 2](https://www.hackerrank.com/challenges/strange-advertising/problem)\n"
   ]
  },
  {
   "cell_type": "code",
   "execution_count": 5,
   "metadata": {},
   "outputs": [],
   "source": [
    "# Complete the viralAdvertising function below.\n",
    "def viralAdvertising(n):\n",
    "    total = 5\n",
    "    liked = 0\n",
    "    for i in range(n):\n",
    "        total = total//2\n",
    "        liked += total\n",
    "        total *= 3\n",
    "    return liked"
   ]
  },
  {
   "cell_type": "markdown",
   "metadata": {},
   "source": [
    "### [Problem 3](https://www.hackerrank.com/challenges/predicting-office-space-price/problem)\n"
   ]
  },
  {
   "cell_type": "code",
   "execution_count": null,
   "metadata": {},
   "outputs": [],
   "source": [
    "import numpy as np\n",
    "from sklearn import linear_model\n",
    "from sklearn.preprocessing import PolynomialFeatures\n",
    "\n",
    "\n",
    "X_train = []\n",
    "y_train = []\n",
    "\n",
    "X_test = []\n",
    "y_hat = []\n",
    "\n",
    "\n",
    "num_feat,num_sampl = [int(i) for i in input().strip().split()]\n",
    "for i in range(num_sampl):\n",
    "    lst = [float(k) for k in input().strip().split()]\n",
    "    X_train.append(np.array(lst[:num_feat]))\n",
    "    y_train.append(lst[num_feat])\n",
    "\n",
    "num_test = int(input().strip())\n",
    "for i in range(num_test):\n",
    "    lst = np.array([float(k) for k in input().strip().split()])\n",
    "    X_test.append(lst)\n",
    "    \n",
    "X_train = np.array(X_train)\n",
    "X_train_scaled = (X_train-X_train.mean())/X_train.std()\n",
    "y_train = np.array(y_train)\n",
    "X_test = np.array(X_test)\n",
    "X_test_scaled = (X_test-X_test.mean())/X_test.std()\n",
    "\n",
    "poly = PolynomialFeatures(3)\n",
    "X_train_poly = poly.fit_transform(X_train_scaled)\n",
    "X_test_poly = poly.fit_transform(X_test_scaled)\n",
    "\n",
    "\n",
    "    \n",
    "model = linear_model.LinearRegression()\n",
    "model.fit(X_train_poly,y_train)\n",
    "\n",
    "y_hat = model.predict(X_test_poly)\n",
    "for i in range(num_test):\n",
    "    print(y_hat[i])"
   ]
  },
  {
   "cell_type": "markdown",
   "metadata": {},
   "source": [
    "# [Problem 4](https://www.hackerrank.com/challenges/climbing-the-leaderboard/problem)"
   ]
  },
  {
   "cell_type": "code",
   "execution_count": null,
   "metadata": {},
   "outputs": [],
   "source": [
    "# Complete the climbingLeaderboard function below.\n",
    "def climbingLeaderboard(scores, alice):\n",
    "    ranked = list(set(scores))\n",
    "    ranked.sort(reverse=True)\n",
    "    alice_ranks = []\n",
    "\n",
    "    for score in alice:\n",
    "\n",
    "        while(len(ranked)>0 and ranked[len(ranked)-1] <= score):\n",
    "            ranked.pop() \n",
    "        alice_ranks.append(len(ranked)+1)\n",
    "    return alice_ranks\n",
    "'''\n",
    "if __name__ == '__main__':\n",
    "    fptr = open(os.environ['OUTPUT_PATH'], 'w')\n",
    "\n",
    "    scores_count = int(input())\n",
    "\n",
    "    scores = list(map(int, input().rstrip().split()))\n",
    "\n",
    "    alice_count = int(input())\n",
    "\n",
    "    alice = list(map(int, input().rstrip().split()))\n",
    "\n",
    "    result = climbingLeaderboard(scores, alice)\n",
    "\n",
    "    fptr.write('\\n'.join(map(str, result)))\n",
    "    fptr.write('\\n')\n",
    "\n",
    "    fptr.close()\n",
    "'''"
   ]
  }
 ],
 "metadata": {
  "kernelspec": {
   "display_name": "Python 3",
   "language": "python",
   "name": "python3"
  },
  "language_info": {
   "codemirror_mode": {
    "name": "ipython",
    "version": 3
   },
   "file_extension": ".py",
   "mimetype": "text/x-python",
   "name": "python",
   "nbconvert_exporter": "python",
   "pygments_lexer": "ipython3",
   "version": "3.6.2"
  }
 },
 "nbformat": 4,
 "nbformat_minor": 2
}
