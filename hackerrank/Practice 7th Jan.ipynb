{
 "cells": [
  {
   "cell_type": "markdown",
   "metadata": {},
   "source": [
    "### [Problem 1](https://www.hackerrank.com/challenges/30-conditional-statements/problem)"
   ]
  },
  {
   "cell_type": "code",
   "execution_count": 5,
   "metadata": {},
   "outputs": [
    {
     "name": "stdout",
     "output_type": "stream",
     "text": [
      "10\n",
      "Weird\n"
     ]
    }
   ],
   "source": [
    "n = int(input()) #input \n",
    "if(n%2!=0 or (n <=20 and n>=6)):\n",
    "    print(\"Weird\")\n",
    "else:\n",
    "    print(\"Not Weird\")"
   ]
  },
  {
   "cell_type": "markdown",
   "metadata": {},
   "source": [
    "### [Problem 2](https://www.hackerrank.com/challenges/reverse-a-doubly-linked-list/problem?h_l=interview&playlist_slugs%5B%5D=interview-preparation-kit&playlist_slugs%5B%5D=linked-lists)"
   ]
  },
  {
   "cell_type": "code",
   "execution_count": 6,
   "metadata": {},
   "outputs": [],
   "source": [
    "def reverse(head):\n",
    "    head_reversed = DoublyLinkedListNode(head.data)\n",
    "    while(head.next):\n",
    "        new_node = DoublyLinkedListNode(head.next.data)\n",
    "        new_node.next = head_reversed\n",
    "        head_reversed.prev = new_node\n",
    "        head = head.next\n",
    "        head_reversed = head_reversed.prev\n",
    "    return head_reversed"
   ]
  },
  {
   "cell_type": "markdown",
   "metadata": {},
   "source": [
    "### [Problem 3](https://www.hackerrank.com/challenges/a-very-big-sum/problem)"
   ]
  },
  {
   "cell_type": "code",
   "execution_count": 7,
   "metadata": {},
   "outputs": [],
   "source": [
    "# Complete the aVeryBigSum function below.\n",
    "def aVeryBigSum(ar):\n",
    "    return sum(ar)"
   ]
  },
  {
   "cell_type": "code",
   "execution_count": null,
   "metadata": {},
   "outputs": [],
   "source": [
    "//C++ Solution\n",
    "long long int aVeryBigSum(vector<long> ar) {\n",
    "    long long int sum;\n",
    "    for(int i=0; i<ar.size(); i++){\n",
    "        sum +=  ar[i];\n",
    "        cout<<ar[i]<<endl;\n",
    "    }\n",
    "    return sum;\n",
    "}"
   ]
  },
  {
   "cell_type": "markdown",
   "metadata": {},
   "source": [
    "### [Problem 4](https://www.hackerrank.com/challenges/utopian-tree/problem)"
   ]
  },
  {
   "cell_type": "code",
   "execution_count": 8,
   "metadata": {},
   "outputs": [],
   "source": [
    "# Complete the utopianTree function below.\n",
    "def utopianTree(n):\n",
    "    height = 1\n",
    "    for i in range(n):\n",
    "        if(i%2==0):\n",
    "            height *=2\n",
    "        else:\n",
    "            height += 1\n",
    "    return height"
   ]
  }
 ],
 "metadata": {
  "kernelspec": {
   "display_name": "Python 3",
   "language": "python",
   "name": "python3"
  },
  "language_info": {
   "codemirror_mode": {
    "name": "ipython",
    "version": 3
   },
   "file_extension": ".py",
   "mimetype": "text/x-python",
   "name": "python",
   "nbconvert_exporter": "python",
   "pygments_lexer": "ipython3",
   "version": "3.6.2"
  }
 },
 "nbformat": 4,
 "nbformat_minor": 2
}
