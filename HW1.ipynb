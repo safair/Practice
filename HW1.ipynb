{
 "cells": [
  {
   "cell_type": "markdown",
   "metadata": {},
   "source": [
    "## About"
   ]
  },
  {
   "cell_type": "code",
   "execution_count": null,
   "metadata": {},
   "outputs": [],
   "source": []
  },
  {
   "cell_type": "markdown",
   "metadata": {},
   "source": [
    "## Loading Modules"
   ]
  },
  {
   "cell_type": "code",
   "execution_count": null,
   "metadata": {},
   "outputs": [],
   "source": [
    "#Dependencies\n",
    "!pip install pandas\n",
    "!pip install tweepy\n",
    "!pip install vaderSentiment"
   ]
  },
  {
   "cell_type": "code",
   "execution_count": 1,
   "metadata": {},
   "outputs": [],
   "source": [
    "import pandas as pd\n",
    "import tweepy\n",
    "from nltk.sentiment.vader import SentimentIntensityAnalyzer as st\n",
    "import numpy as np"
   ]
  },
  {
   "cell_type": "markdown",
   "metadata": {},
   "source": [
    "## Connecting to Twitter API"
   ]
  },
  {
   "cell_type": "code",
   "execution_count": 2,
   "metadata": {},
   "outputs": [],
   "source": [
    "#loading key and access token from local file\n",
    "key_path = 'twitter_access_key'\n",
    "with open(key_path, 'r') as fh:\n",
    "    cons_k, cons_s, acc_t, acc_t_s = [line.strip() \\\n",
    "                                      for line in fh.readlines()]"
   ]
  },
  {
   "cell_type": "code",
   "execution_count": 3,
   "metadata": {},
   "outputs": [],
   "source": [
    "auth = tweepy.OAuthHandler(cons_k, cons_s)\n",
    "auth.set_access_token(acc_t, acc_t_s)\n",
    "api = tweepy.API(auth)"
   ]
  },
  {
   "cell_type": "markdown",
   "metadata": {},
   "source": [
    "## Searching for relevant tweets"
   ]
  },
  {
   "cell_type": "code",
   "execution_count": 4,
   "metadata": {},
   "outputs": [],
   "source": [
    "def search_tweets(df, handle, country, n=250):\n",
    "    '''\n",
    "    Searches relevants tweets for given handle\n",
    "    then appends n relevant tweets into given DataFrame df.\n",
    "    '''\n",
    "    result = api.search(handle, lang='en', count=n)\n",
    "    tweets = [tweet.text for tweet in result]\n",
    "    value = [[handle]*n, [country]*n, tweets, [None]*n, [None]*n]\n",
    "    temp_df = pd.DataFrame(data=value).T\n",
    "    temp_df.columns = df.columns\n",
    "    print(\"For {} collected {} tweets.\".format(handle, n))\n",
    "    return df.append(temp_df, ignore_index=True)"
   ]
  },
  {
   "cell_type": "code",
   "execution_count": 5,
   "metadata": {},
   "outputs": [],
   "source": [
    "#creating dataFrame to store data\n",
    "columns = ['Handle','Country', 'Tweet',\\\n",
    "           'sentiment_compound_score', 'Sentiment']\n",
    "data = pd.DataFrame(columns=columns)"
   ]
  },
  {
   "cell_type": "code",
   "execution_count": 6,
   "metadata": {},
   "outputs": [],
   "source": [
    "#getting list of twitter handles of world leaders with their country\n",
    "file_path = 'worldLeaders.txt'\n",
    "leaders = []  #[[handle, country], ...]\n",
    "with open(file_path, 'r') as fh:\n",
    "    leaders =[[v.strip() for v in line.split(',')] \\\n",
    "              for line in fh.readlines()]"
   ]
  },
  {
   "cell_type": "code",
   "execution_count": 7,
   "metadata": {},
   "outputs": [
    {
     "name": "stdout",
     "output_type": "stream",
     "text": [
      "For @BarackObama collected 100 tweets.\n",
      "For @realDonaldTrump collected 100 tweets.\n",
      "For @Pontifex collected 100 tweets.\n",
      "For @narendramodi collected 100 tweets.\n",
      "For @HillaryClinton collected 100 tweets.\n",
      "For @SushmaSwaraj collected 100 tweets.\n",
      "For @10DowningStreet collected 100 tweets.\n",
      "For @JustinTrudeau collected 100 tweets.\n",
      "For @RahulGandhi collected 100 tweets.\n",
      "For @sirajraval collected 100 tweets.\n"
     ]
    }
   ],
   "source": [
    "for handle, country in leaders:\n",
    "    data = search_tweets(data, handle, country, n=100)"
   ]
  },
  {
   "cell_type": "code",
   "execution_count": 11,
   "metadata": {},
   "outputs": [
    {
     "data": {
      "text/html": [
       "<div>\n",
       "<style>\n",
       "    .dataframe thead tr:only-child th {\n",
       "        text-align: right;\n",
       "    }\n",
       "\n",
       "    .dataframe thead th {\n",
       "        text-align: left;\n",
       "    }\n",
       "\n",
       "    .dataframe tbody tr th {\n",
       "        vertical-align: top;\n",
       "    }\n",
       "</style>\n",
       "<table border=\"1\" class=\"dataframe\">\n",
       "  <thead>\n",
       "    <tr style=\"text-align: right;\">\n",
       "      <th></th>\n",
       "      <th>Handle</th>\n",
       "      <th>Country</th>\n",
       "      <th>Tweet</th>\n",
       "      <th>sentiment_compound_score</th>\n",
       "      <th>Sentiment</th>\n",
       "    </tr>\n",
       "  </thead>\n",
       "  <tbody>\n",
       "    <tr>\n",
       "      <th>507</th>\n",
       "      <td>@SushmaSwaraj</td>\n",
       "      <td>India</td>\n",
       "      <td>RT @loveisdanish1: We want justice.Danish is i...</td>\n",
       "      <td>None</td>\n",
       "      <td>None</td>\n",
       "    </tr>\n",
       "    <tr>\n",
       "      <th>818</th>\n",
       "      <td>@RahulGandhi</td>\n",
       "      <td>India</td>\n",
       "      <td>RT @RAC7R: I challenge @RahulGandhi to debate ...</td>\n",
       "      <td>None</td>\n",
       "      <td>None</td>\n",
       "    </tr>\n",
       "    <tr>\n",
       "      <th>452</th>\n",
       "      <td>@HillaryClinton</td>\n",
       "      <td>United States</td>\n",
       "      <td>@HillaryClinton @omaze @OnwardTogether Be care...</td>\n",
       "      <td>None</td>\n",
       "      <td>None</td>\n",
       "    </tr>\n",
       "    <tr>\n",
       "      <th>368</th>\n",
       "      <td>@narendramodi</td>\n",
       "      <td>India</td>\n",
       "      <td>@aajtak @narendramodi Dekh liya sir we have lo...</td>\n",
       "      <td>None</td>\n",
       "      <td>None</td>\n",
       "    </tr>\n",
       "    <tr>\n",
       "      <th>242</th>\n",
       "      <td>@Pontifex</td>\n",
       "      <td>Vatican</td>\n",
       "      <td>RT @Pontifex: We all need to be healed, and we...</td>\n",
       "      <td>None</td>\n",
       "      <td>None</td>\n",
       "    </tr>\n",
       "    <tr>\n",
       "      <th>929</th>\n",
       "      <td>@sirajraval</td>\n",
       "      <td>United States</td>\n",
       "      <td>RT @sirajraval: What should be the topic of my...</td>\n",
       "      <td>None</td>\n",
       "      <td>None</td>\n",
       "    </tr>\n",
       "    <tr>\n",
       "      <th>262</th>\n",
       "      <td>@Pontifex</td>\n",
       "      <td>Vatican</td>\n",
       "      <td>@Manawell @HighPope_Brun @farrellray @AccountH...</td>\n",
       "      <td>None</td>\n",
       "      <td>None</td>\n",
       "    </tr>\n",
       "    <tr>\n",
       "      <th>810</th>\n",
       "      <td>@RahulGandhi</td>\n",
       "      <td>India</td>\n",
       "      <td>@naveenraaz2020 @narendramodi @pankhuripathak ...</td>\n",
       "      <td>None</td>\n",
       "      <td>None</td>\n",
       "    </tr>\n",
       "    <tr>\n",
       "      <th>318</th>\n",
       "      <td>@narendramodi</td>\n",
       "      <td>India</td>\n",
       "      <td>RT @narendramodi: Speaking in the Lok Sabha. W...</td>\n",
       "      <td>None</td>\n",
       "      <td>None</td>\n",
       "    </tr>\n",
       "    <tr>\n",
       "      <th>49</th>\n",
       "      <td>@BarackObama</td>\n",
       "      <td>United States</td>\n",
       "      <td>RT @MariaTCardona: Republicans never did this ...</td>\n",
       "      <td>None</td>\n",
       "      <td>None</td>\n",
       "    </tr>\n",
       "  </tbody>\n",
       "</table>\n",
       "</div>"
      ],
      "text/plain": [
       "              Handle        Country  \\\n",
       "507    @SushmaSwaraj          India   \n",
       "818     @RahulGandhi          India   \n",
       "452  @HillaryClinton  United States   \n",
       "368    @narendramodi          India   \n",
       "242        @Pontifex        Vatican   \n",
       "929      @sirajraval  United States   \n",
       "262        @Pontifex        Vatican   \n",
       "810     @RahulGandhi          India   \n",
       "318    @narendramodi          India   \n",
       "49      @BarackObama  United States   \n",
       "\n",
       "                                                 Tweet  \\\n",
       "507  RT @loveisdanish1: We want justice.Danish is i...   \n",
       "818  RT @RAC7R: I challenge @RahulGandhi to debate ...   \n",
       "452  @HillaryClinton @omaze @OnwardTogether Be care...   \n",
       "368  @aajtak @narendramodi Dekh liya sir we have lo...   \n",
       "242  RT @Pontifex: We all need to be healed, and we...   \n",
       "929  RT @sirajraval: What should be the topic of my...   \n",
       "262  @Manawell @HighPope_Brun @farrellray @AccountH...   \n",
       "810  @naveenraaz2020 @narendramodi @pankhuripathak ...   \n",
       "318  RT @narendramodi: Speaking in the Lok Sabha. W...   \n",
       "49   RT @MariaTCardona: Republicans never did this ...   \n",
       "\n",
       "    sentiment_compound_score Sentiment  \n",
       "507                     None      None  \n",
       "818                     None      None  \n",
       "452                     None      None  \n",
       "368                     None      None  \n",
       "242                     None      None  \n",
       "929                     None      None  \n",
       "262                     None      None  \n",
       "810                     None      None  \n",
       "318                     None      None  \n",
       "49                      None      None  "
      ]
     },
     "execution_count": 11,
     "metadata": {},
     "output_type": "execute_result"
    }
   ],
   "source": [
    "data.sample(n=10, random_state=1)"
   ]
  },
  {
   "cell_type": "code",
   "execution_count": 10,
   "metadata": {},
   "outputs": [],
   "source": [
    "#writing data to local files\n",
    "data.to_csv('data.csv', index=False)"
   ]
  },
  {
   "cell_type": "markdown",
   "metadata": {},
   "source": [
    "## Cleaning Data"
   ]
  },
  {
   "cell_type": "code",
   "execution_count": null,
   "metadata": {},
   "outputs": [],
   "source": []
  },
  {
   "cell_type": "code",
   "execution_count": null,
   "metadata": {},
   "outputs": [],
   "source": []
  },
  {
   "cell_type": "markdown",
   "metadata": {},
   "source": [
    "## Sentiment Analysis"
   ]
  },
  {
   "cell_type": "code",
   "execution_count": null,
   "metadata": {},
   "outputs": [],
   "source": []
  },
  {
   "cell_type": "code",
   "execution_count": null,
   "metadata": {},
   "outputs": [],
   "source": []
  },
  {
   "cell_type": "markdown",
   "metadata": {},
   "source": [
    "## Visualization"
   ]
  },
  {
   "cell_type": "code",
   "execution_count": null,
   "metadata": {},
   "outputs": [],
   "source": []
  },
  {
   "cell_type": "code",
   "execution_count": null,
   "metadata": {},
   "outputs": [],
   "source": []
  },
  {
   "cell_type": "markdown",
   "metadata": {},
   "source": [
    "## Conclusion"
   ]
  },
  {
   "cell_type": "code",
   "execution_count": null,
   "metadata": {},
   "outputs": [],
   "source": []
  },
  {
   "cell_type": "code",
   "execution_count": null,
   "metadata": {},
   "outputs": [],
   "source": []
  },
  {
   "cell_type": "markdown",
   "metadata": {},
   "source": [
    "## Ref:"
   ]
  },
  {
   "cell_type": "code",
   "execution_count": null,
   "metadata": {},
   "outputs": [],
   "source": []
  },
  {
   "cell_type": "code",
   "execution_count": 6,
   "metadata": {},
   "outputs": [],
   "source": [
    "from ipywidgets import interact, Dropdown, Button\n",
    "import ipywidgets as widgets"
   ]
  },
  {
   "cell_type": "code",
   "execution_count": 2,
   "metadata": {},
   "outputs": [],
   "source": [
    "import numpy as np\n",
    "import matplotlib.pyplot as plt\n",
    "#%matplotlib inline\n",
    "\n",
    "import pandas as pd"
   ]
  },
  {
   "cell_type": "code",
   "execution_count": 17,
   "metadata": {},
   "outputs": [],
   "source": [
    "def displ(n):\n",
    "    plt.figure(figsize=(8,5))\n",
    "    plt.scatter(x=list(range(n)),y=np.random.randn(n)*15)\n",
    "    plt.title('title')\n",
    "    plt.show()"
   ]
  },
  {
   "cell_type": "code",
   "execution_count": 18,
   "metadata": {},
   "outputs": [
    {
     "data": {
      "application/vnd.jupyter.widget-view+json": {
       "model_id": "1c3f87dcfb984d04a6a066c9bf13ca3e",
       "version_major": 2,
       "version_minor": 0
      },
      "text/html": [
       "<p>Failed to display Jupyter Widget of type <code>interactive</code>.</p>\n",
       "<p>\n",
       "  If you're reading this message in Jupyter Notebook or JupyterLab, it may mean\n",
       "  that the widgets JavaScript is still loading. If this message persists, it\n",
       "  likely means that the widgets JavaScript library is either not installed or\n",
       "  not enabled. See the <a href=\"https://ipywidgets.readthedocs.io/en/stable/user_install.html\">Jupyter\n",
       "  Widgets Documentation</a> for setup instructions.\n",
       "</p>\n",
       "<p>\n",
       "  If you're reading this message in another notebook frontend (for example, a static\n",
       "  rendering on GitHub or <a href=\"https://nbviewer.jupyter.org/\">NBViewer</a>),\n",
       "  it may mean that your frontend doesn't currently support widgets.\n",
       "</p>\n"
      ],
      "text/plain": [
       "interactive(children=(Dropdown(description='n', options={'Low': 20, 'Medium': 100, 'High': 500}, value=20), Output()), _dom_classes=('widget-interact',))"
      ]
     },
     "metadata": {},
     "output_type": "display_data"
    },
    {
     "data": {
      "text/plain": [
       "<function __main__.displ>"
      ]
     },
     "execution_count": 18,
     "metadata": {},
     "output_type": "execute_result"
    }
   ],
   "source": [
    "interact(displ, n=Dropdown(options={'Low':20, 'Medium':100, 'High':500}))"
   ]
  },
  {
   "cell_type": "code",
   "execution_count": 42,
   "metadata": {},
   "outputs": [
    {
     "data": {
      "application/vnd.jupyter.widget-view+json": {
       "model_id": "4a624ca1bc1f44b8bd3e70962d4f1f20",
       "version_major": 2,
       "version_minor": 0
      },
      "text/html": [
       "<p>Failed to display Jupyter Widget of type <code>interactive</code>.</p>\n",
       "<p>\n",
       "  If you're reading this message in Jupyter Notebook or JupyterLab, it may mean\n",
       "  that the widgets JavaScript is still loading. If this message persists, it\n",
       "  likely means that the widgets JavaScript library is either not installed or\n",
       "  not enabled. See the <a href=\"https://ipywidgets.readthedocs.io/en/stable/user_install.html\">Jupyter\n",
       "  Widgets Documentation</a> for setup instructions.\n",
       "</p>\n",
       "<p>\n",
       "  If you're reading this message in another notebook frontend (for example, a static\n",
       "  rendering on GitHub or <a href=\"https://nbviewer.jupyter.org/\">NBViewer</a>),\n",
       "  it may mean that your frontend doesn't currently support widgets.\n",
       "</p>\n"
      ],
      "text/plain": [
       "interactive(children=(ToggleButtons(description='Density', options={'Low1': 20, 'Low2': 50, 'Medium1': 100, 'Medium2': 200, 'High1': 500, 'High2': 1000}, value=20), Output()), _dom_classes=('widget-interact',))"
      ]
     },
     "metadata": {},
     "output_type": "display_data"
    },
    {
     "data": {
      "text/plain": [
       "<function __main__.displ>"
      ]
     },
     "execution_count": 42,
     "metadata": {},
     "output_type": "execute_result"
    }
   ],
   "source": [
    "t = widgets.ToggleButtons(\n",
    "    options={'Low1':20,'Low2':50, \\\n",
    "             'Medium1':100,'Medium2':200, \\\n",
    "             'High1':500,'High2':1000},\n",
    "    description='Density',\n",
    "    disabled=False,\n",
    "    color='lightgreen'\n",
    ")\n",
    "interact(displ, n=t)"
   ]
  },
  {
   "cell_type": "code",
   "execution_count": 41,
   "metadata": {},
   "outputs": [
    {
     "data": {
      "application/vnd.jupyter.widget-view+json": {
       "model_id": "cc0572f1f10242a2813f537bd9ca448c",
       "version_major": 2,
       "version_minor": 0
      },
      "text/html": [
       "<p>Failed to display Jupyter Widget of type <code>Button</code>.</p>\n",
       "<p>\n",
       "  If you're reading this message in Jupyter Notebook or JupyterLab, it may mean\n",
       "  that the widgets JavaScript is still loading. If this message persists, it\n",
       "  likely means that the widgets JavaScript library is either not installed or\n",
       "  not enabled. See the <a href=\"https://ipywidgets.readthedocs.io/en/stable/user_install.html\">Jupyter\n",
       "  Widgets Documentation</a> for setup instructions.\n",
       "</p>\n",
       "<p>\n",
       "  If you're reading this message in another notebook frontend (for example, a static\n",
       "  rendering on GitHub or <a href=\"https://nbviewer.jupyter.org/\">NBViewer</a>),\n",
       "  it may mean that your frontend doesn't currently support widgets.\n",
       "</p>\n"
      ],
      "text/plain": [
       "Button(description='Click Me!', style=ButtonStyle(button_color='lightgreen'))"
      ]
     },
     "metadata": {},
     "output_type": "display_data"
    }
   ],
   "source": [
    "button = widgets.Button(description=\"Click Me!\")\n",
    "button.style.button_color = 'lightgreen'\n",
    "display(button)\n",
    "\n",
    "def on_button_clicked(b):\n",
    "    print(\"Button clicked.\")\n",
    "\n",
    "button.on_click(on_button_clicked)"
   ]
  },
  {
   "cell_type": "code",
   "execution_count": null,
   "metadata": {},
   "outputs": [],
   "source": []
  }
 ],
 "metadata": {
  "kernelspec": {
   "display_name": "Python 3",
   "language": "python",
   "name": "python3"
  },
  "language_info": {
   "codemirror_mode": {
    "name": "ipython",
    "version": 3
   },
   "file_extension": ".py",
   "mimetype": "text/x-python",
   "name": "python",
   "nbconvert_exporter": "python",
   "pygments_lexer": "ipython3",
   "version": "3.6.2"
  }
 },
 "nbformat": 4,
 "nbformat_minor": 2
}
