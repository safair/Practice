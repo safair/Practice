{
 "cells": [
  {
   "cell_type": "markdown",
   "metadata": {},
   "source": [
    "### [Problem 1](https://www.hackerrank.com/challenges/the-bidding-game)"
   ]
  },
  {
   "cell_type": "code",
   "execution_count": 10,
   "metadata": {},
   "outputs": [
    {
     "name": "stdout",
     "output_type": "stream",
     "text": [
      "1\n",
      "1\n",
      "1\n",
      "1\n",
      "24\n"
     ]
    }
   ],
   "source": [
    "#!/bin/python3\n",
    "\n",
    "class Game:\n",
    "    def __init__(self,player_id, scotch_pos):\n",
    "        self.player = player_id-1\n",
    "        self.asset = [100, 100]  #Player 1 asset is indexed at 0\n",
    "        self.advantage = player==0\n",
    "        self.distance = [scotch_pos, 10-scotch_pos][self.player]\n",
    "        \n",
    "    def load(self, first_moves, second_moves):\n",
    "        '''updates asset values using previous bids'''\n",
    "        first_advantage = True\n",
    "        for i in range(len(first_moves)):\n",
    "            if(first_moves[i] > second_moves[i]):\n",
    "                self.asset[0] -= first_moves[i]\n",
    "            elif(first_moves[i] < second_moves[i]):\n",
    "                self.asset[1] -= second_moves[i]\n",
    "            else:\n",
    "                if(first_advantage):\n",
    "                    self.asset[0] -= first_moves[i]\n",
    "                else:\n",
    "                    self.asset[0] -= second_moves[i]\n",
    "                first_advantage = not first_advantage\n",
    "        \n",
    "        if(self.player): #False --> First Player, True --> Second Player \n",
    "            self.advantage = not first_advantage\n",
    "        else:\n",
    "            self.advantage = first_advantage\n",
    "    \n",
    "    def constant_bid(self, rate=0.25):\n",
    "        '''bids 25% of asset '''\n",
    "        return int(self.asset[self.player]*rate)\n",
    "    \n",
    "    def conditional_bid(self):\n",
    "        '''multiple conditions to calculate proper bid'''\n",
    "        bid = 0\n",
    "        asset_gap = self.asset[player] - self.asset[player-1]\n",
    "        if(self.distance < 2):\n",
    "            '1 step away from win'\n",
    "            if(asset_gap>0 or ( asset_gap ==0 and self.advantage)):\n",
    "                bid= self.asset[player]\n",
    "            else:\n",
    "                bid = int(self.asset[player]*0.90)\n",
    "     \n",
    "        elif(10- self.distance < 2):\n",
    "            'enemy 1 step away from win'\n",
    "            if(asset_gap>0 or ( asset_gap ==0 and self.advantage) ):\n",
    "                bid = int(self.asset[player]*(1- (self.asset[player]/asset_gap)))\n",
    "            else:\n",
    "                bid = int(self.asset[player]*0.90)\n",
    "            \n",
    "            \n",
    "        elif(self.distance > 5):\n",
    "            'enemy closer to bottle'\n",
    "            if(asset_gap>0 or ( asset_gap ==0 and self.advantage) ):\n",
    "                bid = int(self.asset[player]*(1- (self.asset[player]/asset_gap)))\n",
    "            else:\n",
    "                bid = int(self.asset[player]*0.20)\n",
    "            \n",
    "        elif(self.distance < 5):\n",
    "            'player closer to bottle'\n",
    "            if(asset_gap>0 or ( asset_gap ==0 and self.advantage) ):\n",
    "                bid = int(self.asset[player]*((self.asset[player]/asset_gap)))\n",
    "            else:\n",
    "                bid = int(self.asset[player]*0.10)\n",
    "        else:\n",
    "            'at equal distance'\n",
    "            if(asset_gap >0):\n",
    "                bid = int(bid*0.15)\n",
    "            else:\n",
    "                bid = int(bid*0.10)      \n",
    "         \n",
    "        if(self.asset[self.player] and bid==0):\n",
    "            'check if bid is 0 when asset >0'\n",
    "            bid = 1\n",
    "        return bid\n",
    "    \n",
    "    def bid(self, rate=0.25, constant=True):\n",
    "        if(constant):\n",
    "            return self.constant_bid(0.25)\n",
    "        return self.conditional_bid()\n",
    "        \n",
    "    \n",
    "def calculate_bid(player,scotch_pos,first_moves,second_moves):\n",
    "    #first draw is won by first player, then alternate\n",
    "    game = Game(player, scotch_pos)\n",
    "    game.load(first_moves, second_moves)\n",
    "    return game.bid(rate=0.35)\n",
    "    \n",
    "\n",
    "#gets the id of the player\n",
    "player = int(input())\n",
    "\n",
    "scotch_pos = int(input())         #current position of the scotch\n",
    "\n",
    "first_moves = [int(i) for i in input().split()]\n",
    "second_moves = [int(i) for i in input().split()]\n",
    "bid = calculate_bid(player,scotch_pos,first_moves,second_moves)\n",
    "print(bid)"
   ]
  },
  {
   "cell_type": "markdown",
   "metadata": {},
   "source": [
    "# [Problem 2](https://www.hackerrank.com/challenges/digital-camera-day-or-night/problem)"
   ]
  },
  {
   "cell_type": "code",
   "execution_count": 7,
   "metadata": {},
   "outputs": [
    {
     "name": "stdout",
     "output_type": "stream",
     "text": [
      "0,0,200 0,0,10 10,0,0 90,90,50 90,90,10 255,255,255 100,100,88 80,80,80 15,75,255 \n",
      "night\n"
     ]
    }
   ],
   "source": [
    "import numpy as np\n",
    "import pandas as pd\n",
    "\n",
    "img = np.array([[int(p) for p in i.split(',')] for i in input().strip().split()]).flatten()\n",
    "\n",
    "size = int(np.prod(img.shape))\n",
    "black = np.count_nonzero(img < 50)\n",
    "\n",
    "if(black/size >= 0.35):\n",
    "    print('night')\n",
    "else:\n",
    "    print('day')"
   ]
  },
  {
   "cell_type": "markdown",
   "metadata": {},
   "source": [
    "### [Problem 3](https://www.hackerrank.com/challenges/picking-numbers/problem)"
   ]
  },
  {
   "cell_type": "code",
   "execution_count": 9,
   "metadata": {},
   "outputs": [],
   "source": [
    "def pickingNumbers(a):\n",
    "    count = dict.fromkeys(list(range(0, 101)),0)\n",
    "\n",
    "    for i in a:\n",
    "        count[i] += 1\n",
    "    max_val = 0\n",
    "    for i in range(len(count)-1):\n",
    "        if(count[i]+count[i+1]>max_val):\n",
    "            max_val = count[i]+count[i+1]\n",
    "    return max_val "
   ]
  },
  {
   "cell_type": "markdown",
   "metadata": {},
   "source": [
    "### [Problem 4](https://www.hackerrank.com/challenges/save-the-prisoner/problem)"
   ]
  },
  {
   "cell_type": "code",
   "execution_count": 1,
   "metadata": {},
   "outputs": [],
   "source": [
    "def saveThePrisoner(n, m, s):\n",
    "    '''We only care about last round, \n",
    "    so m%n to get to the last round, and then add\n",
    "    the starting index with quantity of left candies,\n",
    "    %n for cycle of index'''\n",
    "    ans = (s+(m%n)-1)%n\n",
    "    if(ans==0): #if last person is the answer\n",
    "        ans = n\n",
    "    return ans"
   ]
  }
 ],
 "metadata": {
  "kernelspec": {
   "display_name": "Python 3",
   "language": "python",
   "name": "python3"
  },
  "language_info": {
   "codemirror_mode": {
    "name": "ipython",
    "version": 3
   },
   "file_extension": ".py",
   "mimetype": "text/x-python",
   "name": "python",
   "nbconvert_exporter": "python",
   "pygments_lexer": "ipython3",
   "version": "3.6.2"
  }
 },
 "nbformat": 4,
 "nbformat_minor": 2
}
